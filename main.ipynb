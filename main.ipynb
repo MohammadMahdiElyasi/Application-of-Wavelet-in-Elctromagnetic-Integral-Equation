{
 "cells": [
  {
   "cell_type": "code",
   "execution_count": 4,
   "metadata": {},
   "outputs": [],
   "source": [
    "import numpy as np\n",
    "import matplotlib.pyplot as plt\n",
    "import pywt\n",
    "\n",
    "# Parameters\n",
    "ro0 = 1\n",
    "ro1 = -1\n",
    "n = 512\n",
    "h = 2 * np.pi / n\n",
    "a = 1\n",
    "d = 10\n",
    "\n",
    "# Pre-computations\n",
    "I = 4 * (np.log(2) * np.sin(h / 2) + 2 * (np.sin(h / 2) * np.log(np.sin(h / 2)) - np.sin(h / 2)))\n",
    "B = a * np.log(a) - a / 2 * np.log(2 * a**2)\n",
    "A = 2 * h * B\n",
    "\n",
    "# Initialize arrays\n",
    "teta = np.zeros(n)\n",
    "f = np.zeros(n)\n",
    "k = np.zeros(n)\n",
    "mat = np.zeros((n, n))\n",
    "\n",
    "# Calculate teta, f, and k\n",
    "for i in range(n):\n",
    "    teta[i] = i * h\n",
    "    f[i] = ro0 * (np.log(d) - 0.5 * np.log(a**2 + d**2 - 2 * a * d * np.cos(teta[i])))\n",
    "\n",
    "    if i == 0:\n",
    "        k[i] = A - a / 2 * I\n",
    "    else:\n",
    "        k[i] = B - a / 2 * (np.log(2 * np.sin(teta[i] / 2)))\n",
    "        if i == 1 or i == n - 1:\n",
    "            k[i] *= h / 3\n",
    "        else:\n",
    "            k[i] *= 2 * h / 3 * (1 + i % 2)\n",
    "\n",
    "# Construct the matrix mat\n",
    "for i in range(n):\n",
    "    for j in range(n):\n",
    "        mat[i, j] = k[(j - i + n) % n]\n",
    "# Solve the system in the physical domain (MATLAB-like approach)\n",
    "f_physical = -f\n",
    "ros_physical = np.linalg.solve(mat, f_physical)\n",
    "\n",
    "# Normalize and correct the solution (MATLAB-like approach)\n",
    "su_physical = np.sum(ros_physical)\n",
    "ros_physical = -su_physical / n + ros_physical + ro1 / (2 * np.pi * a)"
   ]
  }
 ],
 "metadata": {
  "kernelspec": {
   "display_name": "Python 3",
   "language": "python",
   "name": "python3"
  },
  "language_info": {
   "codemirror_mode": {
    "name": "ipython",
    "version": 3
   },
   "file_extension": ".py",
   "mimetype": "text/x-python",
   "name": "python",
   "nbconvert_exporter": "python",
   "pygments_lexer": "ipython3",
   "version": "3.9.4"
  }
 },
 "nbformat": 4,
 "nbformat_minor": 2
}
